# Let's create a basic structure of `urban_heat_scan_analysis.ipynb` as a Python script version.
# This will simulate loading LST and NDVI data for 2015 and 2022 and doing basic analysis.

import pandas as pd
import matplotlib.pyplot as plt
import seaborn as sns

# Sample mock data for 2015 and 2022
data = {
    "Year": [2015]*6 + [2022]*6,
    "Month": ["May", "June", "July", "Aug", "Sept", "Oct"]*2,
    "LST": [37.5, 38.2, 39.1, 38.7, 37.8, 36.9, 39.0, 39.7, 40.5, 40.0, 39.2, 38.1],
    "NDVI": [0.31, 0.35, 0.38, 0.40, 0.36, 0.33, 0.27, 0.30, 0.32, 0.29, 0.28, 0.26]
}
df = pd.DataFrame(data)

# Separate by year
df_2015 = df[df["Year"] == 2015]
df_2022 = df[df["Year"] == 2022]

# Plot comparison of LST
plt.figure(figsize=(10, 5))
sns.lineplot(data=df, x="Month", y="LST", hue="Year", marker="o")
plt.title("Land Surface Temperature Comparison (2015 vs 2022)")
plt.ylabel("LST (°C)")
plt.grid(True)
plt.tight_layout()
plt.show()

# Plot comparison of NDVI
plt.figure(figsize=(10, 5))
sns.lineplot(data=df, x="Month", y="NDVI", hue="Year", marker="o")
plt.title("NDVI (Green Cover) Comparison (2015 vs 2022)")
plt.ylabel("NDVI")
plt.grid(True)
plt.tight_layout()
plt.show()

# Correlation analysis between LST and NDVI
corr_2015 = df_2015["LST"].corr(df_2015["NDVI"])
corr_2022 = df_2022["LST"].corr(df_2022["NDVI"])

corr_2015, corr_2022
